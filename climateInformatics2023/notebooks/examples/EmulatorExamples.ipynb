{
 "cells": [
  {
   "cell_type": "code",
   "execution_count": null,
   "id": "850f812d",
   "metadata": {
    "ExecuteTime": {
     "end_time": "2023-03-02T17:18:12.540524Z",
     "start_time": "2023-03-02T17:18:12.260881Z"
    }
   },
   "outputs": [],
   "source": [
    "%run ../python_classes/Emulator.ipynb"
   ]
  },
  {
   "cell_type": "markdown",
   "id": "614e206b",
   "metadata": {},
   "source": [
    "# Emulator class\n",
    "\n",
    "Here we inspect methods of the Emulator class."
   ]
  },
  {
   "cell_type": "markdown",
   "id": "283aa682",
   "metadata": {},
   "source": [
    "Create an emulator. For this example, we will just view July 1st at midnight."
   ]
  },
  {
   "cell_type": "code",
   "execution_count": null,
   "id": "388b3da5",
   "metadata": {
    "ExecuteTime": {
     "end_time": "2023-02-07T05:54:29.954685Z",
     "start_time": "2023-02-07T05:54:29.718339Z"
    }
   },
   "outputs": [],
   "source": [
    "a = Emulator(\n",
    ")\n",
    "\n",
    "myFeaturesNames = ['acure_sea_spray', 'acure_dry_dep_acc', 'acure_bvoc_soa']"
   ]
  },
  {
   "cell_type": "code",
   "execution_count": null,
   "id": "e73f1091",
   "metadata": {
    "ExecuteTime": {
     "end_time": "2023-02-07T05:54:31.212418Z",
     "start_time": "2023-02-07T05:54:30.854554Z"
    }
   },
   "outputs": [],
   "source": [
    "a = Emulator(\n",
    "    region=[-1, 0, -1, 0],\n",
    "    excludeFeats=list(set(a.__get_input_names__()) - set(myFeaturesNames)),\n",
    "    start_time=\"2017-07-01T10:00:00\",\n",
    "    end_time=\"2017-07-01T13:59:59\",\n",
    "    centerTarget=True\n",
    ")"
   ]
  },
  {
   "cell_type": "code",
   "execution_count": null,
   "id": "4bde2078",
   "metadata": {
    "ExecuteTime": {
     "end_time": "2023-02-07T05:54:32.180691Z",
     "start_time": "2023-02-07T05:54:32.177104Z"
    },
    "scrolled": true
   },
   "outputs": [],
   "source": [
    "a.__dict__"
   ]
  },
  {
   "cell_type": "markdown",
   "id": "a4e63f67",
   "metadata": {},
   "source": [
    "# Pixelwise"
   ]
  },
  {
   "cell_type": "markdown",
   "id": "b1ee4f45",
   "metadata": {},
   "source": [
    "## Train\n",
    "\n",
    "Train a model for each pixel."
   ]
  },
  {
   "cell_type": "code",
   "execution_count": null,
   "id": "49b57dde",
   "metadata": {
    "ExecuteTime": {
     "end_time": "2023-02-07T05:54:35.040522Z",
     "start_time": "2023-02-07T05:54:34.017647Z"
    }
   },
   "outputs": [],
   "source": [
    "job = a.train()"
   ]
  },
  {
   "cell_type": "code",
   "execution_count": null,
   "id": "93abc3cf",
   "metadata": {
    "ExecuteTime": {
     "end_time": "2023-02-07T05:54:49.146822Z",
     "start_time": "2023-02-07T05:54:49.127826Z"
    }
   },
   "outputs": [],
   "source": [
    "job.status()"
   ]
  },
  {
   "cell_type": "code",
   "execution_count": null,
   "id": "a4def2d5",
   "metadata": {
    "ExecuteTime": {
     "end_time": "2023-02-07T05:43:08.583864Z",
     "start_time": "2023-02-07T05:43:08.579850Z"
    },
    "scrolled": true
   },
   "outputs": [],
   "source": [
    "a.__dict__"
   ]
  },
  {
   "cell_type": "markdown",
   "id": "c72eac61",
   "metadata": {},
   "source": [
    "Collect the parameters from each of the models."
   ]
  },
  {
   "cell_type": "code",
   "execution_count": null,
   "id": "8008bfce",
   "metadata": {
    "ExecuteTime": {
     "end_time": "2022-11-08T16:27:14.941091Z",
     "start_time": "2022-11-08T16:27:12.540965Z"
    }
   },
   "outputs": [],
   "source": [
    "params = a.__retrieve_emulator_pixelwise__()"
   ]
  },
  {
   "cell_type": "code",
   "execution_count": null,
   "id": "abec8a74",
   "metadata": {
    "ExecuteTime": {
     "end_time": "2022-11-08T16:27:26.095517Z",
     "start_time": "2022-11-08T16:27:26.064572Z"
    }
   },
   "outputs": [],
   "source": [
    "params.status()"
   ]
  },
  {
   "cell_type": "markdown",
   "id": "8860ba7f",
   "metadata": {},
   "source": [
    "Display the learned parameters, excluding duplicates if necessary."
   ]
  },
  {
   "cell_type": "code",
   "execution_count": null,
   "id": "c7a40200",
   "metadata": {
    "ExecuteTime": {
     "end_time": "2022-11-08T16:27:27.973635Z",
     "start_time": "2022-11-08T16:27:27.557050Z"
    }
   },
   "outputs": [],
   "source": [
    "df = a.__retrieve_pixelwise_parameters__(params)\n",
    "df"
   ]
  },
  {
   "cell_type": "markdown",
   "id": "bded0442",
   "metadata": {},
   "source": [
    "## Emulate"
   ]
  },
  {
   "cell_type": "code",
   "execution_count": null,
   "id": "4b70b8a7",
   "metadata": {
    "ExecuteTime": {
     "end_time": "2022-11-08T16:28:25.809915Z",
     "start_time": "2022-11-08T16:28:24.573796Z"
    }
   },
   "outputs": [],
   "source": [
    "emu = a.__emulate_pixelwise__(nVariants=50)"
   ]
  },
  {
   "cell_type": "code",
   "execution_count": null,
   "id": "7bee041b",
   "metadata": {
    "ExecuteTime": {
     "end_time": "2022-11-08T16:28:53.102267Z",
     "start_time": "2022-11-08T16:28:53.062743Z"
    }
   },
   "outputs": [],
   "source": [
    "emu.status()"
   ]
  },
  {
   "cell_type": "code",
   "execution_count": null,
   "id": "78586e49",
   "metadata": {
    "ExecuteTime": {
     "end_time": "2022-11-08T16:34:07.106082Z",
     "start_time": "2022-11-08T16:34:07.102083Z"
    },
    "scrolled": true
   },
   "outputs": [],
   "source": [
    "a.excludeFeats"
   ]
  },
  {
   "cell_type": "code",
   "execution_count": null,
   "id": "38915d00",
   "metadata": {
    "ExecuteTime": {
     "end_time": "2022-11-08T16:34:29.379398Z",
     "start_time": "2022-11-08T16:34:29.140563Z"
    }
   },
   "outputs": [],
   "source": [
    "a.__make_filter__()"
   ]
  },
  {
   "cell_type": "code",
   "execution_count": null,
   "id": "d15ec212",
   "metadata": {
    "ExecuteTime": {
     "end_time": "2022-11-08T16:34:36.844344Z",
     "start_time": "2022-11-08T16:34:36.840533Z"
    }
   },
   "outputs": [],
   "source": [
    "a.targetName"
   ]
  },
  {
   "cell_type": "code",
   "execution_count": null,
   "id": "44329b31",
   "metadata": {
    "ExecuteTime": {
     "end_time": "2022-11-08T16:34:55.770522Z",
     "start_time": "2022-11-08T16:34:55.760905Z"
    },
    "scrolled": true
   },
   "outputs": [],
   "source": [
    "a.__make_synth_dataset__(50)"
   ]
  },
  {
   "cell_type": "code",
   "execution_count": null,
   "id": "16ff944e",
   "metadata": {
    "ExecuteTime": {
     "end_time": "2022-11-08T16:38:53.559462Z",
     "start_time": "2022-11-08T16:38:53.537379Z"
    }
   },
   "outputs": [],
   "source": [
    "my_GPR_technique = c3.GaussianProcessRegressionTechnique(\n",
    "    randomState=42,\n",
    "    kernel=a.GPR_kernel,\n",
    "    centerTarget=True\n",
    ").upsert()"
   ]
  },
  {
   "cell_type": "code",
   "execution_count": null,
   "id": "b80c9cde",
   "metadata": {
    "ExecuteTime": {
     "end_time": "2022-11-08T16:38:57.008545Z",
     "start_time": "2022-11-08T16:38:57.006012Z"
    }
   },
   "outputs": [],
   "source": [
    "my_GPR_technique.centerTarget=True"
   ]
  },
  {
   "cell_type": "code",
   "execution_count": null,
   "id": "15c4b379",
   "metadata": {
    "ExecuteTime": {
     "end_time": "2022-11-08T16:38:57.815565Z",
     "start_time": "2022-11-08T16:38:57.811042Z"
    }
   },
   "outputs": [],
   "source": [
    "my_GPR_technique"
   ]
  },
  {
   "cell_type": "code",
   "execution_count": null,
   "id": "8cb426b3",
   "metadata": {
    "ExecuteTime": {
     "end_time": "2022-11-08T16:41:15.827314Z",
     "start_time": "2022-11-08T16:41:14.225145Z"
    }
   },
   "outputs": [],
   "source": [
    "job = c3.PredictAODGPR.makePredictionsJob(\n",
    "            a.excludeFeats,\n",
    "            a.__make_filter__(),\n",
    "            a.targetName,\n",
    "            a.__make_synth_dataset__(50), ###\n",
    "            my_GPR_technique,\n",
    "            a.batchSize)"
   ]
  },
  {
   "cell_type": "code",
   "execution_count": null,
   "id": "d9b69751",
   "metadata": {
    "ExecuteTime": {
     "end_time": "2022-11-08T16:42:34.728034Z",
     "start_time": "2022-11-08T16:42:33.587775Z"
    }
   },
   "outputs": [],
   "source": [
    "job = c3.AODGPRModelFinder.extractLearnedParametersJob(\n",
    "            a.excludeFeats,\n",
    "            a.__make_filter__(),\n",
    "            a.targetName,\n",
    "            #a.__make_synth_dataset__(50), ###\n",
    "            my_GPR_technique,\n",
    "            a.batchSize)"
   ]
  },
  {
   "cell_type": "code",
   "execution_count": null,
   "id": "25f579bf",
   "metadata": {
    "ExecuteTime": {
     "end_time": "2022-11-08T16:42:38.729936Z",
     "start_time": "2022-11-08T16:42:38.691552Z"
    }
   },
   "outputs": [],
   "source": [
    "job.status()"
   ]
  },
  {
   "cell_type": "markdown",
   "id": "1281dbba",
   "metadata": {},
   "source": [
    "## Fit manually"
   ]
  },
  {
   "cell_type": "code",
   "execution_count": null,
   "id": "4bf79dda",
   "metadata": {
    "ExecuteTime": {
     "end_time": "2022-10-04T04:06:12.314636Z",
     "start_time": "2022-10-04T04:06:10.349668Z"
    }
   },
   "outputs": [],
   "source": [
    "y_train = get_average_response(\n",
    "    time1=\"2017-07-01T00:00:00\",\n",
    "    time2=\"2017-07-01T02:59:59\",\n",
    "    lat1 = -1.0,\n",
    "    lat2 = 0.0,\n",
    "    lon1 = -22.0,\n",
    "    lon2 = -21.0\n",
    ")\n",
    "\n",
    "X_train = get_inputs()"
   ]
  },
  {
   "cell_type": "code",
   "execution_count": null,
   "id": "e96fd5e9",
   "metadata": {
    "ExecuteTime": {
     "end_time": "2022-10-04T04:06:21.794417Z",
     "start_time": "2022-10-04T04:06:20.717906Z"
    }
   },
   "outputs": [],
   "source": [
    "# create kernel\n",
    "GPR_kernel = c3.SklearnGPRKernelMatern(lengthScale=[1.0]*len(myFeaturesNames), nu=0.5, coefficient=1.0).build().kernel.upsert()\n",
    "\n",
    "# define technique\n",
    "GPR_technique = c3.GaussianProcessRegressionTechnique(\n",
    "    randomState=42,\n",
    "    kernel=GPR_kernel,\n",
    "    centerTarget=True\n",
    ").upsert()"
   ]
  },
  {
   "cell_type": "code",
   "execution_count": null,
   "id": "69f8b208",
   "metadata": {
    "ExecuteTime": {
     "end_time": "2022-10-04T04:06:26.075248Z",
     "start_time": "2022-10-04T04:06:26.072435Z"
    }
   },
   "outputs": [],
   "source": [
    "# create pipe\n",
    "GPR_pipe = c3.GaussianProcessRegressionPipe(\n",
    "    technique=GPR_technique\n",
    ")"
   ]
  },
  {
   "cell_type": "code",
   "execution_count": null,
   "id": "d84c3065",
   "metadata": {
    "ExecuteTime": {
     "end_time": "2022-10-04T04:06:30.549617Z",
     "start_time": "2022-10-04T04:06:27.308367Z"
    }
   },
   "outputs": [],
   "source": [
    "GPR_trained = GPR_pipe.train(\n",
    "    input=c3.Dataset.fromPython(X_train),\n",
    "    targetOutput=c3.Dataset.fromPython(pd.DataFrame(y_train))\n",
    ")"
   ]
  },
  {
   "cell_type": "code",
   "execution_count": null,
   "id": "d8ed300a",
   "metadata": {
    "ExecuteTime": {
     "end_time": "2022-10-04T04:06:32.033955Z",
     "start_time": "2022-10-04T04:06:31.718294Z"
    }
   },
   "outputs": [],
   "source": [
    "x = dict(zip(\n",
    "    myFeaturesNames,\n",
    "    c3.PythonSerialization.deserialize(serialized=GPR_trained.trainedModel.model).kernel_.get_params()['k2__length_scale']\n",
    "))\n",
    "\n",
    "dict(sorted(x.items(), key=lambda item: item[1]))"
   ]
  },
  {
   "cell_type": "code",
   "execution_count": null,
   "id": "5b6a8c75",
   "metadata": {
    "ExecuteTime": {
     "end_time": "2022-10-04T04:07:05.055201Z",
     "start_time": "2022-10-04T04:07:05.045656Z"
    }
   },
   "outputs": [],
   "source": [
    "df2.iloc[0, :]"
   ]
  },
  {
   "cell_type": "markdown",
   "id": "18c2ace0",
   "metadata": {},
   "source": [
    "## Get parameters manually"
   ]
  },
  {
   "cell_type": "code",
   "execution_count": null,
   "id": "e93561ef",
   "metadata": {
    "ExecuteTime": {
     "end_time": "2022-10-04T03:55:58.355242Z",
     "start_time": "2022-10-04T03:55:58.293460Z"
    }
   },
   "outputs": [],
   "source": [
    "# Filter data for job\n",
    "gstpFilter = a2.make_filter()"
   ]
  },
  {
   "cell_type": "code",
   "execution_count": null,
   "id": "5af72148",
   "metadata": {
    "ExecuteTime": {
     "end_time": "2022-10-04T03:56:04.860886Z",
     "start_time": "2022-10-04T03:56:03.936660Z"
    }
   },
   "outputs": [],
   "source": [
    "GPR_kernel = c3.SklearnGPRKernelMatern(\n",
    "    lengthScale=[1.0]*len(a2.inputs),\n",
    "    nu=0.5,\n",
    "    coefficient=1.0\n",
    ").build().kernel"
   ]
  },
  {
   "cell_type": "code",
   "execution_count": null,
   "id": "2e0826ca",
   "metadata": {
    "ExecuteTime": {
     "end_time": "2022-10-04T03:54:25.145038Z",
     "start_time": "2022-10-04T03:54:23.715928Z"
    }
   },
   "outputs": [],
   "source": [
    "GPR_technique = c3.GaussianProcessRegressionTechnique(\n",
    "    randomState = 42,\n",
    "    kernel = GPR_kernel,\n",
    "    centerTarget = a2.centerTarget\n",
    ")\n",
    "\n",
    "new_job = c3.AODGPRModelFinder.extractLearnedParametersJob(a2.excludeFeats, gstpFilter, \"all\", GPR_technique, 10)"
   ]
  },
  {
   "cell_type": "code",
   "execution_count": null,
   "id": "5706d5c8",
   "metadata": {
    "ExecuteTime": {
     "end_time": "2022-10-04T03:56:15.510137Z",
     "start_time": "2022-10-04T03:56:15.478175Z"
    }
   },
   "outputs": [],
   "source": [
    "new_job.status()"
   ]
  },
  {
   "cell_type": "code",
   "execution_count": null,
   "id": "bf396f02",
   "metadata": {
    "ExecuteTime": {
     "end_time": "2022-10-04T03:56:18.052851Z",
     "start_time": "2022-10-04T03:56:17.973253Z"
    }
   },
   "outputs": [],
   "source": [
    "df = c3.AODGPRModelFinder.getDataframeFromJob(new_job)\n",
    "df[[\"latitude\", \"longitude\"]] = df[[\"latitude\", \"longitude\"]].applymap(lambda x:float(x))\n",
    "df[\"time\"] = pd.DataFrame(df[\"time\"]).applymap(lambda x:pd.Timestamp(str(x)))"
   ]
  },
  {
   "cell_type": "code",
   "execution_count": null,
   "id": "0f28a817",
   "metadata": {
    "ExecuteTime": {
     "end_time": "2022-10-04T03:56:19.191730Z",
     "start_time": "2022-10-04T03:56:19.170429Z"
    }
   },
   "outputs": [],
   "source": [
    "df.drop_duplicates(\n",
    "    subset=[\"latitude\", \"longitude\", \"time\"]\n",
    ").reset_index(\n",
    "    drop=True\n",
    ").rename(\n",
    "    columns=dict(zip(df.columns, a.inputs))\n",
    ")"
   ]
  },
  {
   "cell_type": "markdown",
   "id": "79ef3ccf",
   "metadata": {},
   "source": [
    "## In development: Regional emulator"
   ]
  },
  {
   "cell_type": "code",
   "execution_count": null,
   "id": "da5e209d",
   "metadata": {
    "ExecuteTime": {
     "end_time": "2022-08-16T15:39:59.413105Z",
     "start_time": "2022-08-16T15:39:15.183164Z"
    },
    "scrolled": true
   },
   "outputs": [],
   "source": [
    "emulator = a.train(pixelwise=False, featureNames=a.inputs[53:], lengthscales=df, labels=[1]*df.shape[0])"
   ]
  },
  {
   "cell_type": "code",
   "execution_count": null,
   "id": "7ee65d08",
   "metadata": {
    "ExecuteTime": {
     "end_time": "2022-08-16T15:40:01.865500Z",
     "start_time": "2022-08-16T15:39:59.414996Z"
    },
    "scrolled": true
   },
   "outputs": [],
   "source": [
    "df_c = a.emulate_variant(pipe=emulator, queryVariant=np.random.rand(1, len(a.regionalFeatureNames))[0], lengthScales=df)"
   ]
  },
  {
   "cell_type": "code",
   "execution_count": null,
   "id": "abbd06ff",
   "metadata": {
    "ExecuteTime": {
     "end_time": "2022-08-16T15:40:01.873942Z",
     "start_time": "2022-08-16T15:40:01.866930Z"
    }
   },
   "outputs": [],
   "source": [
    "df_c"
   ]
  },
  {
   "cell_type": "code",
   "execution_count": null,
   "id": "f880776c",
   "metadata": {
    "ExecuteTime": {
     "end_time": "2022-08-16T15:40:02.001049Z",
     "start_time": "2022-08-16T15:40:01.875029Z"
    }
   },
   "outputs": [],
   "source": [
    "a.plot_variant(df_c)"
   ]
  },
  {
   "cell_type": "code",
   "execution_count": null,
   "id": "44e78c40",
   "metadata": {},
   "outputs": [],
   "source": []
  },
  {
   "cell_type": "code",
   "execution_count": null,
   "id": "a90149ce",
   "metadata": {},
   "outputs": [],
   "source": []
  },
  {
   "cell_type": "code",
   "execution_count": null,
   "id": "712ac942",
   "metadata": {},
   "outputs": [],
   "source": []
  },
  {
   "cell_type": "code",
   "execution_count": null,
   "id": "69e9bc8e",
   "metadata": {},
   "outputs": [],
   "source": []
  },
  {
   "cell_type": "code",
   "execution_count": null,
   "id": "2cf3900d",
   "metadata": {},
   "outputs": [],
   "source": []
  },
  {
   "cell_type": "code",
   "execution_count": null,
   "id": "d21683a0",
   "metadata": {
    "ExecuteTime": {
     "end_time": "2022-10-04T22:57:11.092829Z",
     "start_time": "2022-10-04T22:57:11.090208Z"
    }
   },
   "outputs": [],
   "source": [
    "import numpy as np\n",
    "import pandas as pd"
   ]
  },
  {
   "cell_type": "code",
   "execution_count": null,
   "id": "fe134beb",
   "metadata": {
    "ExecuteTime": {
     "end_time": "2022-10-05T15:39:14.493145Z",
     "start_time": "2022-10-05T15:39:14.483233Z"
    }
   },
   "outputs": [],
   "source": [
    "with open(\"lengthscale_tables/2017-07-01T00:00:00_2017-07-07T23:59:59\", \"r\") as f:\n",
    "    df = pd.read_csv(f)"
   ]
  },
  {
   "cell_type": "code",
   "execution_count": null,
   "id": "7423fbb8",
   "metadata": {
    "ExecuteTime": {
     "end_time": "2022-10-05T15:39:18.773537Z",
     "start_time": "2022-10-05T15:39:18.748666Z"
    }
   },
   "outputs": [],
   "source": [
    "df"
   ]
  },
  {
   "cell_type": "code",
   "execution_count": null,
   "id": "1ff408f7",
   "metadata": {
    "ExecuteTime": {
     "end_time": "2022-10-04T22:57:27.251099Z",
     "start_time": "2022-10-04T22:57:27.247992Z"
    }
   },
   "outputs": [],
   "source": [
    "model_ids = list(df.loc[0:10, \"modelId\"])"
   ]
  },
  {
   "cell_type": "code",
   "execution_count": null,
   "id": "9b9b7341",
   "metadata": {
    "ExecuteTime": {
     "end_time": "2022-10-04T22:57:54.721128Z",
     "start_time": "2022-10-04T22:57:32.405254Z"
    }
   },
   "outputs": [],
   "source": [
    "c3.StagedFeatures.stageFromAODGPRModelIdsList(model_ids)"
   ]
  },
  {
   "cell_type": "code",
   "execution_count": null,
   "id": "3d3b0cbb",
   "metadata": {
    "ExecuteTime": {
     "end_time": "2022-10-04T22:58:20.614850Z",
     "start_time": "2022-10-04T22:58:05.100179Z"
    }
   },
   "outputs": [],
   "source": [
    "c3.StagedTargets.stageFromAODGPRModelIdsList(model_ids)"
   ]
  },
  {
   "cell_type": "code",
   "execution_count": null,
   "id": "b7b2b5d4",
   "metadata": {
    "ExecuteTime": {
     "end_time": "2022-10-04T23:06:25.894845Z",
     "start_time": "2022-10-04T23:06:24.809492Z"
    }
   },
   "outputs": [],
   "source": [
    "# create a pipe\n",
    "kernelLen = 19\n",
    "GPR_kernel = c3.SklearnGPRKernelMatern(lengthScale=[1.0]*kernelLen, nu=0.5, coefficient=1.0).build().kernel.upsert()\n",
    "\n",
    "GPR_technique = c3.GaussianProcessRegressionTechnique(\n",
    "    randomState=42,\n",
    "    kernel=GPR_kernel,\n",
    "    centerTarget=True\n",
    ").upsert()\n",
    "\n",
    "GPR_dataspec = c3.GPRDataSourceSpec(\n",
    "    featuresType = c3.TypeRef(\n",
    "        typeName=\"StagedFeatures\"\n",
    "    ),\n",
    "    targetType=c3.TypeRef(\n",
    "        typeName=\"StagedTargets\"\n",
    "    )\n",
    ").upsert()\n",
    "\n",
    "GPR_pipe = c3.GaussianProcessRegressionPipe(\n",
    "    technique=GPR_technique,\n",
    "    dataSourceSpec=GPR_dataspec\n",
    ")"
   ]
  },
  {
   "cell_type": "code",
   "execution_count": null,
   "id": "c5dcf2f9",
   "metadata": {
    "ExecuteTime": {
     "end_time": "2022-10-04T23:06:32.200552Z",
     "start_time": "2022-10-04T23:06:28.658730Z"
    }
   },
   "outputs": [],
   "source": [
    "# check features\n",
    "features = GPR_pipe.getFeatures()\n",
    "df_feats = c3.Dataset.toPandas(features)\n",
    "df_feats"
   ]
  },
  {
   "cell_type": "code",
   "execution_count": null,
   "id": "5a1d7899",
   "metadata": {
    "ExecuteTime": {
     "end_time": "2022-10-04T23:06:37.096582Z",
     "start_time": "2022-10-04T23:06:34.899152Z"
    }
   },
   "outputs": [],
   "source": [
    "# check targets\n",
    "targets = GPR_pipe.getTarget()\n",
    "df_targets = c3.Dataset.toPandas(targets)\n",
    "df_targets"
   ]
  },
  {
   "cell_type": "code",
   "execution_count": null,
   "id": "b5114a6a",
   "metadata": {
    "ExecuteTime": {
     "end_time": "2022-10-04T23:22:46.335567Z",
     "start_time": "2022-10-04T23:06:40.885337Z"
    }
   },
   "outputs": [],
   "source": [
    "GPR_trained = GPR_pipe.train(input=features, targetOutput=targets)"
   ]
  },
  {
   "cell_type": "code",
   "execution_count": null,
   "id": "08a0f0a4",
   "metadata": {
    "ExecuteTime": {
     "end_time": "2022-10-05T03:16:02.465463Z",
     "start_time": "2022-10-05T03:16:01.836674Z"
    }
   },
   "outputs": [],
   "source": [
    "dict(zip(df_feats, c3.PythonSerialization.deserialize(serialized=GPR_trained.trainedModel.model).kernel_.get_params()['k2__length_scale']))"
   ]
  },
  {
   "cell_type": "code",
   "execution_count": null,
   "id": "0bb0b024",
   "metadata": {
    "ExecuteTime": {
     "end_time": "2022-10-05T15:45:14.474841Z",
     "start_time": "2022-10-05T15:45:14.471706Z"
    }
   },
   "outputs": [],
   "source": [
    "lengthScales = df.iloc[0:3, :]\n",
    "labels = [0, 1, 2]"
   ]
  },
  {
   "cell_type": "code",
   "execution_count": null,
   "id": "ce01c7bb",
   "metadata": {
    "ExecuteTime": {
     "end_time": "2022-10-05T15:45:56.115417Z",
     "start_time": "2022-10-05T15:45:15.111360Z"
    }
   },
   "outputs": [],
   "source": [
    "regem = a2.train(pixelwise=False, lengthScales=lengthScales, labels=labels)"
   ]
  },
  {
   "cell_type": "code",
   "execution_count": null,
   "id": "f39299e1",
   "metadata": {
    "ExecuteTime": {
     "end_time": "2022-10-05T15:46:19.606656Z",
     "start_time": "2022-10-05T15:46:19.601463Z"
    }
   },
   "outputs": [],
   "source": [
    "regem"
   ]
  },
  {
   "cell_type": "code",
   "execution_count": null,
   "id": "ef2378cf",
   "metadata": {
    "ExecuteTime": {
     "end_time": "2022-10-05T16:04:02.320312Z",
     "start_time": "2022-10-05T16:04:02.315645Z"
    }
   },
   "outputs": [],
   "source": [
    "queryVariant = pd.DataFrame(list(np.random.uniform(0, 1, 17)) + [-0.625, -0.9375]).transpose()\n",
    "synth = c3.Dataset.fromPython(pythonData=queryVariant)"
   ]
  },
  {
   "cell_type": "code",
   "execution_count": null,
   "id": "41209ff4",
   "metadata": {
    "ExecuteTime": {
     "end_time": "2022-10-05T16:04:29.288303Z",
     "start_time": "2022-10-05T16:04:25.720811Z"
    }
   },
   "outputs": [],
   "source": [
    "for em in regem:\n",
    "    pipe = c3.GaussianProcessRegressionPipe.get(regem[em].id)\n",
    "    y_c = pipe.process(input=synth)\n",
    "    print(c3.Dataset.toPandas(y_c))\n",
    "    \n",
    "    model = c3.PythonSerialization.deserialize(serialized=pipe.trainedModel.model)\n",
    "    print(model.kernel_)"
   ]
  }
 ],
 "metadata": {
  "has_local_update": true,
  "is_local": true,
  "is_remote": true,
  "kernelspec": {
   "display_name": "Python 3",
   "language": "python",
   "name": "python3"
  },
  "language_info": {
   "codemirror_mode": {
    "name": "ipython",
    "version": 3
   },
   "file_extension": ".py",
   "mimetype": "text/x-python",
   "name": "python",
   "nbconvert_exporter": "python",
   "pygments_lexer": "ipython3",
   "version": "3.8.13"
  },
  "last_sync_time": "2023-03-17T19:37:52.431393"
 },
 "nbformat": 4,
 "nbformat_minor": 5
}
