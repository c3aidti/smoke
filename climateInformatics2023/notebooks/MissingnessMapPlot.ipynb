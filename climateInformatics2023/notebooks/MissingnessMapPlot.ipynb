{
 "cells": [
  {
   "cell_type": "code",
   "execution_count": null,
   "id": "651c359f",
   "metadata": {
    "ExecuteTime": {
     "end_time": "2023-03-29T18:08:35.554369Z",
     "start_time": "2023-03-29T18:08:35.166169Z"
    }
   },
   "outputs": [],
   "source": [
    "import pandas as pd\n",
    "import numpy as np\n",
    "import matplotlib.pyplot as plt\n",
    "from scipy.interpolate import griddata\n",
    "\n",
    "import sys\n",
    "try:\n",
    "    import cartopy.crs as ccrs\n",
    "except ImportError:\n",
    "    pass\n",
    "\n",
    "if 'cartopy.crs' not in sys.modules:\n",
    "    get_cartopy = False\n",
    "    print('You have not imported the {} module'.format('cartopy.crs'))\n",
    "else:\n",
    "    get_cartopy = True"
   ]
  },
  {
   "cell_type": "code",
   "execution_count": null,
   "id": "92b0eca9",
   "metadata": {
    "ExecuteTime": {
     "end_time": "2023-03-29T18:09:03.792088Z",
     "start_time": "2023-03-29T18:09:03.748109Z"
    }
   },
   "outputs": [],
   "source": [
    "with open(\"observations\", \"r\") as f:\n",
    "    obs_df = pd.read_csv(f, index_col=0)\n",
    "f.close()\n",
    "\n",
    "with open(\"outliers\", \"r\") as f:\n",
    "    outliers = pd.read_csv(f)\n",
    "f.close()\n",
    "\n",
    "my_outliers = outliers[outliers.time<=np.min(outliers.time)]"
   ]
  },
  {
   "cell_type": "code",
   "execution_count": null,
   "id": "303ba60d",
   "metadata": {
    "ExecuteTime": {
     "end_time": "2023-03-29T18:38:00.271521Z",
     "start_time": "2023-03-29T18:37:59.883525Z"
    }
   },
   "outputs": [],
   "source": [
    "projection = ccrs.PlateCarree(central_longitude=0)\n",
    "fig = plt.figure(figsize=(10,10))\n",
    "\n",
    "# Draw island\n",
    "ax = fig.add_subplot(1, 1, 1, projection=projection)\n",
    "ax.coastlines()\n",
    "\n",
    "# Produce gridlines, coordinate labels\n",
    "ax.set_extent([-45, 40, -30, 10], ccrs.PlateCarree())\n",
    "ax.gridlines(draw_labels=True, crs=projection)\n",
    "\n",
    "# Add points along flight path and color for altitude\n",
    "measurements = ax.scatter(\n",
    "    my_outliers[(my_outliers.missing==False) & (my_outliers.outlier==False)].longitude,\n",
    "    my_outliers[(my_outliers.missing==False) & (my_outliers.outlier==False)].latitude,\n",
    "    zorder=1, alpha=1,\n",
    "    c=my_outliers[(my_outliers.missing==False) & (my_outliers.outlier==False)].meanResponse, cmap=\"Blues\"\n",
    ")\n",
    "\n",
    "cbar = plt.colorbar(measurements, orientation = 'horizontal')\n",
    "cbar.set_label('Measured AOD', fontsize = 14)\n",
    "\n",
    "ax.scatter(\n",
    "    my_outliers[my_outliers.missing==True].longitude,\n",
    "    my_outliers[my_outliers.missing==True].latitude,\n",
    "    zorder=1, alpha=0.5,\n",
    "    c=\"r\", marker=\"s\", s=50,\n",
    "    label='Missing measurement'\n",
    ")\n",
    "ax.scatter(\n",
    "    my_outliers[my_outliers.outlier==True].longitude,\n",
    "    my_outliers[my_outliers.outlier==True].latitude,\n",
    "    zorder=1, alpha=0.5,\n",
    "    c=\"g\", marker=\"s\", s=50,\n",
    "    label='Outlier'\n",
    ")\n",
    "\n",
    "plt.legend(loc = 'upper center', bbox_to_anchor = (0.5, -0.1), ncol = 2, fontsize = 14)\n",
    "plt.show()"
   ]
  }
 ],
 "metadata": {
  "has_local_update": true,
  "is_local": true,
  "is_remote": true,
  "kernelspec": {
   "display_name": "py-gordon_1_0_0",
   "language": "Python",
   "name": "py-gordon_1_0_0"
  },
  "language_info": {
   "codemirror_mode": {
    "name": "ipython",
    "version": 3
   },
   "file_extension": ".py",
   "mimetype": "text/x-python",
   "name": "python",
   "nbconvert_exporter": "python",
   "pygments_lexer": "ipython3",
   "version": "3.6.13"
  },
  "last_sync_time": "2023-03-29T19:11:40.222296"
 },
 "nbformat": 4,
 "nbformat_minor": 5
}
