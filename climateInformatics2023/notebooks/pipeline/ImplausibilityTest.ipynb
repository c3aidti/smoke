{
 "cells": [
  {
   "cell_type": "code",
   "execution_count": null,
   "id": "b6daecd4",
   "metadata": {
    "ExecuteTime": {
     "end_time": "2023-03-24T21:54:08.609048Z",
     "start_time": "2023-03-24T21:54:08.606791Z"
    }
   },
   "outputs": [],
   "source": [
    "import pandas as pd\n",
    "import numpy as np\n",
    "import matplotlib.pyplot as plt\n",
    "import scipy\n",
    "import scipy.stats\n",
    "import csv\n",
    "import math"
   ]
  },
  {
   "cell_type": "markdown",
   "id": "4ed788ab",
   "metadata": {},
   "source": [
    "# Open files"
   ]
  },
  {
   "cell_type": "code",
   "execution_count": null,
   "id": "3ddd1919",
   "metadata": {
    "ExecuteTime": {
     "end_time": "2023-03-24T16:23:07.049936Z",
     "start_time": "2023-03-24T16:23:07.046998Z"
    }
   },
   "outputs": [],
   "source": [
    "with open('mle', 'r') as f:\n",
    "    reader = csv.reader(f)\n",
    "    mle = list(reader)\n",
    "\n",
    "u_mle = int(mle[0][0])\n",
    "additional_variance = float(mle[0][1])\n",
    "f.close()"
   ]
  },
  {
   "cell_type": "code",
   "execution_count": null,
   "id": "4912fd5d",
   "metadata": {
    "ExecuteTime": {
     "end_time": "2023-03-24T16:20:19.977252Z",
     "start_time": "2023-03-24T16:19:50.113556Z"
    }
   },
   "outputs": [],
   "source": [
    "with open(\"distances\", \"r\") as f:\n",
    "    my_distances = pd.read_csv(f, index_col=False)\n",
    "\n",
    "f.close()"
   ]
  },
  {
   "cell_type": "code",
   "execution_count": null,
   "id": "c924e6ee",
   "metadata": {
    "ExecuteTime": {
     "end_time": "2023-03-24T16:26:19.634365Z",
     "start_time": "2023-03-24T16:25:50.002938Z"
    }
   },
   "outputs": [],
   "source": [
    "with open(\"variances\", \"r\") as f:\n",
    "    my_variances = pd.read_csv(f, index_col=False)\n",
    "    my_variances_adjusted = my_variances + additional_variance\n",
    "\n",
    "f.close()"
   ]
  },
  {
   "cell_type": "code",
   "execution_count": null,
   "id": "05621c7a",
   "metadata": {
    "ExecuteTime": {
     "end_time": "2023-03-24T16:23:41.056987Z",
     "start_time": "2023-03-24T16:23:10.477814Z"
    }
   },
   "outputs": [],
   "source": [
    "with open(\"hm_variances\", \"r\") as f:\n",
    "    my_hm_variances = pd.read_csv(f, index_col=0)\n",
    "\n",
    "f.close()"
   ]
  },
  {
   "cell_type": "markdown",
   "id": "34972eb8",
   "metadata": {},
   "source": [
    "# Compute implausibilities\n",
    "\n",
    "## Using strict bounds method"
   ]
  },
  {
   "cell_type": "code",
   "execution_count": null,
   "id": "95e4e921",
   "metadata": {
    "ExecuteTime": {
     "end_time": "2023-03-24T16:27:00.112102Z",
     "start_time": "2023-03-24T16:26:53.711986Z"
    }
   },
   "outputs": [],
   "source": [
    "implausibilities = np.sqrt(np.power(my_distances, 2).div(my_variances_adjusted).sum(axis=0))"
   ]
  },
  {
   "cell_type": "code",
   "execution_count": null,
   "id": "68ce835a",
   "metadata": {
    "ExecuteTime": {
     "end_time": "2023-03-13T14:55:03.853104Z",
     "start_time": "2023-03-13T14:55:03.843410Z"
    }
   },
   "outputs": [],
   "source": [
    "with open(\"implausibilities\", \"w\") as f:\n",
    "    f.write(implausibilities.to_csv())\n",
    "f.close()"
   ]
  },
  {
   "cell_type": "markdown",
   "id": "76008d24",
   "metadata": {},
   "source": [
    "## Using history matching\n",
    "\n",
    "As in Johnson et al. (2020), we simply choose a quantile from the observations which retains approximately 40 percent of model variants as plausible."
   ]
  },
  {
   "cell_type": "code",
   "execution_count": null,
   "id": "b296c0ac",
   "metadata": {
    "ExecuteTime": {
     "end_time": "2023-03-24T21:55:28.562087Z",
     "start_time": "2023-03-24T21:55:26.721860Z"
    }
   },
   "outputs": [],
   "source": [
    "norm_dists = abs(my_distances.div(np.sqrt(my_variances_adjusted)))"
   ]
  },
  {
   "cell_type": "code",
   "execution_count": null,
   "id": "3802680d",
   "metadata": {
    "ExecuteTime": {
     "end_time": "2023-03-24T21:57:53.397221Z",
     "start_time": "2023-03-24T21:55:35.397633Z"
    }
   },
   "outputs": [],
   "source": [
    "with open(\"norm_dists\", \"w\") as f:\n",
    "    f.write(norm_dists.to_csv())\n",
    "f.close()"
   ]
  }
 ],
 "metadata": {
  "has_local_update": true,
  "is_local": true,
  "is_remote": true,
  "kernelspec": {
   "display_name": "Python 3",
   "language": "python",
   "name": "python3"
  },
  "language_info": {
   "codemirror_mode": {
    "name": "ipython",
    "version": 3
   },
   "file_extension": ".py",
   "mimetype": "text/x-python",
   "name": "python",
   "nbconvert_exporter": "python",
   "pygments_lexer": "ipython3",
   "version": "3.8.13"
  },
  "last_sync_time": "2023-03-29T19:20:47.974850"
 },
 "nbformat": 4,
 "nbformat_minor": 5
}
