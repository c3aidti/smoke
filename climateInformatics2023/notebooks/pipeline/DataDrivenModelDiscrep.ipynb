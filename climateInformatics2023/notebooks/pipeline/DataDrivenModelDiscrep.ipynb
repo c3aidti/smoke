{
 "cells": [
  {
   "cell_type": "code",
   "execution_count": null,
   "id": "2cd3492b",
   "metadata": {
    "ExecuteTime": {
     "end_time": "2023-03-20T15:40:50.149725Z",
     "start_time": "2023-03-20T15:40:49.917820Z"
    }
   },
   "outputs": [],
   "source": [
    "import pandas as pd\n",
    "import numpy as np\n",
    "import matplotlib.pyplot as plt\n",
    "import scipy\n",
    "import csv\n",
    "from scipy.optimize import minimize_scalar"
   ]
  },
  {
   "cell_type": "markdown",
   "id": "fb155429",
   "metadata": {},
   "source": [
    "# Open files "
   ]
  },
  {
   "cell_type": "code",
   "execution_count": null,
   "id": "e019c236",
   "metadata": {
    "ExecuteTime": {
     "end_time": "2023-03-20T15:40:51.423529Z",
     "start_time": "2023-03-20T15:40:51.397952Z"
    }
   },
   "outputs": [],
   "source": [
    "with open(\"observations\", \"r\") as f:\n",
    "    obs_df = pd.read_csv(f, index_col=0)\n",
    "\n",
    "f.close()"
   ]
  },
  {
   "cell_type": "code",
   "execution_count": null,
   "id": "e1e38850",
   "metadata": {
    "ExecuteTime": {
     "end_time": "2023-03-20T15:40:52.882103Z",
     "start_time": "2023-03-20T15:40:52.867578Z"
    }
   },
   "outputs": [],
   "source": [
    "with open(\"inputs\", \"r\") as f:\n",
    "    inputs_df = pd.read_csv(f, index_col=0)\n",
    "\n",
    "f.close()"
   ]
  },
  {
   "cell_type": "code",
   "execution_count": null,
   "id": "7ff62c1d",
   "metadata": {
    "ExecuteTime": {
     "end_time": "2023-03-20T15:40:53.823739Z",
     "start_time": "2023-03-20T15:40:53.809209Z"
    }
   },
   "outputs": [],
   "source": [
    "with open(\"model_variants\", \"r\") as f:\n",
    "    model_variants_df = pd.read_csv(f, index_col=0)\n",
    "\n",
    "f.close()"
   ]
  },
  {
   "cell_type": "code",
   "execution_count": null,
   "id": "5c05b4a6",
   "metadata": {
    "ExecuteTime": {
     "end_time": "2023-03-20T15:40:55.011703Z",
     "start_time": "2023-03-20T15:40:54.987120Z"
    }
   },
   "outputs": [],
   "source": [
    "with open(\"outliers\", \"r\") as f:\n",
    "    obs_df2 = pd.read_csv(f, index_col=0)\n",
    "\n",
    "f.close()"
   ]
  },
  {
   "cell_type": "code",
   "execution_count": null,
   "id": "07ad55a2",
   "metadata": {
    "ExecuteTime": {
     "end_time": "2023-03-20T15:40:59.232185Z",
     "start_time": "2023-03-20T15:40:59.229391Z"
    }
   },
   "outputs": [],
   "source": [
    "days = [str(n).zfill(2) for n in range(1, 15)]\n",
    "times = [\"09_20_00\", \"12_20_00\"]\n",
    "\n",
    "# Since the predictions take up so much space, they are separated by day\n",
    "prediction_sets = [\"predictions_07_\" + day + \"_17_\" + time for day in days for time in times]"
   ]
  },
  {
   "cell_type": "markdown",
   "id": "de335ae6",
   "metadata": {},
   "source": [
    "## Step 1: Get variance terms for strict bounds and history matching methods"
   ]
  },
  {
   "cell_type": "code",
   "execution_count": null,
   "id": "2cdcf8fd",
   "metadata": {
    "ExecuteTime": {
     "end_time": "2023-03-20T15:41:03.516458Z",
     "start_time": "2023-03-20T15:41:03.513486Z"
    },
    "scrolled": true
   },
   "outputs": [],
   "source": [
    "idxSet=(obs_df2['missing']) | (obs_df2['outlier'])"
   ]
  },
  {
   "cell_type": "code",
   "execution_count": null,
   "id": "5002c01b",
   "metadata": {
    "ExecuteTime": {
     "end_time": "2023-03-20T17:32:21.657794Z",
     "start_time": "2023-03-20T17:32:21.650246Z"
    },
    "code_folding": []
   },
   "outputs": [],
   "source": [
    "def get_all_squares(idxSet=list((obs_df2['missing']) | (obs_df2['outlier'])), method='sb'):\n",
    "    \"\"\"\n",
    "    y = observed AOD\n",
    "    zs = emulated AODs (vector)\n",
    "    \n",
    "    e = estimated instrument error standard deviation\n",
    "    ss = standard deviation of AOD emulation\n",
    "\n",
    "\n",
    "    Arguments\n",
    "\n",
    "    idxSet : Set of row indices which are to be excluded from analysis\n",
    "    method : Which method to use for estimating uncertainties, either 'sb' (strict bounds, our method) or 'hm' (history\n",
    "        matching, based on Johnson et al. (2020))\n",
    "\n",
    "    \n",
    "    Value\n",
    "    \n",
    "    Tuple : \"Distances\" (differences in response) and \"variances\" (terms needed to normalize the distances)\n",
    "    \"\"\"\n",
    "    allDistances = []\n",
    "    allVariances = []\n",
    "    \n",
    "    my_obs_df = obs_df.copy()\n",
    "    my_obs_df.loc[idxSet, [\"meanResponse\", \"sdResponse\"]] = [float(\"nan\"), float(\"nan\")]\n",
    "\n",
    "    for time, prediction_set in zip(np.unique(my_obs_df.time), prediction_sets):\n",
    "        \n",
    "        my_obs_df_this_time = my_obs_df[my_obs_df.time==time].reset_index(drop=True)\n",
    "        num_pixels = len(my_obs_df_this_time.index)\n",
    "        \n",
    "        with open(prediction_set, \"r\") as f:\n",
    "            my_predict_df_this_time = pd.read_csv(f, index_col=0)\n",
    "        \n",
    "        my_predict_dfs = [\n",
    "            my_predict_df_this_time.iloc[k*5000:(k+1)*5000, :].reset_index(drop=True) \n",
    "            for k in range(num_pixels)\n",
    "        ]\n",
    "\n",
    "        for row in range(num_pixels):\n",
    "\n",
    "            y = my_obs_df_this_time.loc[row, 'meanResponse']\n",
    "            if method=='sb':\n",
    "                e = my_obs_df_this_time.loc[row, 'sdResponse']**2\n",
    "            elif method=='hm':\n",
    "                # Per Johnson et al. (2020), instrument uncertainty is 10%, spatial co-location uncertainty is 20%, and\n",
    "                # temporal sampling uncertainty is 10% of the measured value.\n",
    "                e = (0.1+0.2+0.1)*y\n",
    "\n",
    "            zs = my_predict_dfs[row]['meanResponse']\n",
    "            ss = my_predict_dfs[row]['sdResponse']**2\n",
    "\n",
    "            if ~np.isnan(y) and y != 0:\n",
    "                distances = list(y - zs)\n",
    "                variances = list(e + ss)\n",
    "            else:\n",
    "                distances = [float('nan')]*len(zs)\n",
    "                variances = [float('nan')]*len(zs)\n",
    "\n",
    "            allDistances.append(pd.DataFrame(distances).transpose())\n",
    "            allVariances.append(pd.DataFrame(variances).transpose())\n",
    "\n",
    "    return (\n",
    "        pd.concat(allDistances, axis=0).reset_index(drop=True),\n",
    "        pd.concat(allVariances, axis=0).reset_index(drop=True)\n",
    "    )"
   ]
  },
  {
   "cell_type": "markdown",
   "id": "ea846b35",
   "metadata": {},
   "source": [
    "### For strict bounds"
   ]
  },
  {
   "cell_type": "code",
   "execution_count": null,
   "id": "d240fae9",
   "metadata": {
    "ExecuteTime": {
     "end_time": "2023-03-20T17:37:20.429733Z",
     "start_time": "2023-03-20T17:32:24.798312Z"
    }
   },
   "outputs": [],
   "source": [
    "my_distances, my_variances = get_all_squares()"
   ]
  },
  {
   "cell_type": "code",
   "execution_count": null,
   "id": "c6567314",
   "metadata": {
    "ExecuteTime": {
     "end_time": "2023-03-20T17:38:30.366197Z",
     "start_time": "2023-03-20T17:38:30.349250Z"
    }
   },
   "outputs": [],
   "source": [
    "my_variances"
   ]
  },
  {
   "cell_type": "code",
   "execution_count": null,
   "id": "366fa2e4",
   "metadata": {
    "ExecuteTime": {
     "end_time": "2023-02-25T01:43:07.786379Z",
     "start_time": "2023-02-25T01:40:30.244445Z"
    }
   },
   "outputs": [],
   "source": [
    "with open('distances', 'w') as f:\n",
    "    my_distances.to_csv(f)\n",
    "f.close()"
   ]
  },
  {
   "cell_type": "code",
   "execution_count": null,
   "id": "1e2a85bd",
   "metadata": {
    "ExecuteTime": {
     "end_time": "2023-02-25T02:30:22.150185Z",
     "start_time": "2023-02-25T02:27:43.628688Z"
    }
   },
   "outputs": [],
   "source": [
    "with open('variances', 'w') as f:\n",
    "    my_variances.to_csv(f)\n",
    "f.close()"
   ]
  },
  {
   "cell_type": "code",
   "execution_count": null,
   "id": "34102980",
   "metadata": {
    "ExecuteTime": {
     "end_time": "2023-02-25T00:37:53.192825Z",
     "start_time": "2023-02-25T00:37:41.988532Z"
    }
   },
   "outputs": [],
   "source": [
    "sums_squares = np.power(my_distances, 2).sum(axis=0)\n",
    "sums_squares"
   ]
  },
  {
   "cell_type": "markdown",
   "id": "44a106ec",
   "metadata": {},
   "source": [
    "### For history matching"
   ]
  },
  {
   "cell_type": "code",
   "execution_count": null,
   "id": "a965556d",
   "metadata": {
    "ExecuteTime": {
     "end_time": "2023-03-20T17:43:25.630117Z",
     "start_time": "2023-03-20T17:38:33.251868Z"
    }
   },
   "outputs": [],
   "source": [
    "my_hm_distances, my_hm_variances = get_all_squares(method='hm')"
   ]
  },
  {
   "cell_type": "code",
   "execution_count": null,
   "id": "22575c15",
   "metadata": {
    "ExecuteTime": {
     "end_time": "2023-03-20T17:43:50.305358Z",
     "start_time": "2023-03-20T17:43:50.290108Z"
    }
   },
   "outputs": [],
   "source": [
    "my_hm_variances"
   ]
  },
  {
   "cell_type": "code",
   "execution_count": null,
   "id": "21aa57c7",
   "metadata": {
    "ExecuteTime": {
     "end_time": "2023-03-20T17:46:39.369600Z",
     "start_time": "2023-03-20T17:44:23.381599Z"
    }
   },
   "outputs": [],
   "source": [
    "with open('hm_variances', 'w') as f:\n",
    "    my_hm_variances.to_csv(f)\n",
    "f.close()"
   ]
  },
  {
   "cell_type": "markdown",
   "id": "a1723854",
   "metadata": {},
   "source": [
    "## Step 2: Compute MLE for outstanding variance term"
   ]
  },
  {
   "cell_type": "code",
   "execution_count": null,
   "id": "9b358074",
   "metadata": {
    "ExecuteTime": {
     "end_time": "2023-02-25T00:40:14.581888Z",
     "start_time": "2023-02-25T00:40:14.579111Z"
    }
   },
   "outputs": [],
   "source": [
    "def l(d, u):\n",
    "    # Log likelihood, to be maximized\n",
    "    term1 = np.nansum(np.log(my_variances.iloc[:, u] + d))\n",
    "    term2 = np.nansum(np.power(my_distances.iloc[:, u], 2) / (my_variances.iloc[:, u] + d))\n",
    "    return 0.5 * (term1 + term2)"
   ]
  },
  {
   "cell_type": "code",
   "execution_count": null,
   "id": "64f0b36c",
   "metadata": {
    "ExecuteTime": {
     "end_time": "2023-02-25T00:53:13.079653Z",
     "start_time": "2023-02-25T00:45:19.726197Z"
    }
   },
   "outputs": [],
   "source": [
    "max_l_for_us = []\n",
    "\n",
    "for u in range(5000):\n",
    "    res = minimize_scalar(l, args=(u))\n",
    "    max_l_for_us.append(-res.fun)"
   ]
  },
  {
   "cell_type": "code",
   "execution_count": null,
   "id": "0a1f4913",
   "metadata": {
    "ExecuteTime": {
     "end_time": "2023-02-25T00:57:50.001916Z",
     "start_time": "2023-02-25T00:57:49.999648Z"
    }
   },
   "outputs": [],
   "source": [
    "u_mle = max_l_for_us.index(max(max_l_for_us))"
   ]
  },
  {
   "cell_type": "code",
   "execution_count": null,
   "id": "2fa330f3",
   "metadata": {
    "ExecuteTime": {
     "end_time": "2023-02-25T01:04:39.465466Z",
     "start_time": "2023-02-25T01:04:39.462320Z"
    }
   },
   "outputs": [],
   "source": [
    "u_mle"
   ]
  },
  {
   "cell_type": "code",
   "execution_count": null,
   "id": "1bba009a",
   "metadata": {
    "ExecuteTime": {
     "end_time": "2023-02-25T00:57:51.149043Z",
     "start_time": "2023-02-25T00:57:51.103497Z"
    }
   },
   "outputs": [],
   "source": [
    "additional_variance = minimize_scalar(l, args=(u_mle)).x"
   ]
  },
  {
   "cell_type": "code",
   "execution_count": null,
   "id": "dee13827",
   "metadata": {
    "ExecuteTime": {
     "end_time": "2023-02-25T01:05:22.737332Z",
     "start_time": "2023-02-25T01:05:22.734292Z"
    }
   },
   "outputs": [],
   "source": [
    "additional_variance"
   ]
  },
  {
   "cell_type": "code",
   "execution_count": null,
   "id": "6b74b6ac",
   "metadata": {
    "ExecuteTime": {
     "end_time": "2023-02-25T01:04:58.680294Z",
     "start_time": "2023-02-25T01:04:58.674907Z"
    }
   },
   "outputs": [],
   "source": [
    "l(additional_variance, u_mle)"
   ]
  },
  {
   "cell_type": "code",
   "execution_count": null,
   "id": "149da02b",
   "metadata": {
    "ExecuteTime": {
     "end_time": "2023-02-25T01:09:25.954437Z",
     "start_time": "2023-02-25T01:09:25.951685Z"
    }
   },
   "outputs": [],
   "source": [
    "with open('mle', 'w') as f:\n",
    "    write = csv.writer(f)\n",
    "    write.writerow([u_mle, additional_variance])\n",
    "f.close()"
   ]
  }
 ],
 "metadata": {
  "has_local_update": true,
  "is_local": true,
  "is_remote": true,
  "kernelspec": {
   "display_name": "Python 3",
   "language": "python",
   "name": "python3"
  },
  "language_info": {
   "codemirror_mode": {
    "name": "ipython",
    "version": 3
   },
   "file_extension": ".py",
   "mimetype": "text/x-python",
   "name": "python",
   "nbconvert_exporter": "python",
   "pygments_lexer": "ipython3",
   "version": "3.8.13"
  },
  "last_sync_time": "2023-03-29T19:22:21.756856"
 },
 "nbformat": 4,
 "nbformat_minor": 5
}
