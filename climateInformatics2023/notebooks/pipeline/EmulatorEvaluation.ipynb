{
 "cells": [
  {
   "cell_type": "code",
   "execution_count": null,
   "id": "e0734776",
   "metadata": {
    "ExecuteTime": {
     "end_time": "2023-02-24T23:08:59.815104Z",
     "start_time": "2023-02-24T23:08:58.977387Z"
    }
   },
   "outputs": [],
   "source": [
    "import pandas as pd\n",
    "import numpy as np\n",
    "import matplotlib.pyplot as plt\n",
    "import scipy\n",
    "import cartopy"
   ]
  },
  {
   "cell_type": "markdown",
   "id": "bccb1896",
   "metadata": {},
   "source": [
    "# Open files\n",
    "\n",
    "## Observations"
   ]
  },
  {
   "cell_type": "code",
   "execution_count": null,
   "id": "7f52ef5d",
   "metadata": {
    "ExecuteTime": {
     "end_time": "2023-02-24T23:09:15.037455Z",
     "start_time": "2023-02-24T23:09:15.011068Z"
    }
   },
   "outputs": [],
   "source": [
    "with open(\"observations\", \"r\") as f:\n",
    "    obs_df = pd.read_csv(f, index_col=0)\n",
    "\n",
    "f.close()"
   ]
  },
  {
   "cell_type": "code",
   "execution_count": null,
   "id": "20415b57",
   "metadata": {
    "ExecuteTime": {
     "end_time": "2023-02-24T23:13:28.227638Z",
     "start_time": "2023-02-24T23:13:28.218429Z"
    }
   },
   "outputs": [],
   "source": [
    "obs_df"
   ]
  },
  {
   "cell_type": "markdown",
   "id": "d04c1f7f",
   "metadata": {},
   "source": [
    "## Input parameter ranges"
   ]
  },
  {
   "cell_type": "code",
   "execution_count": null,
   "id": "2bded246",
   "metadata": {
    "ExecuteTime": {
     "end_time": "2023-02-24T23:13:30.143304Z",
     "start_time": "2023-02-24T23:13:30.127482Z"
    }
   },
   "outputs": [],
   "source": [
    "with open(\"inputs\", \"r\") as f:\n",
    "    inputs_df = pd.read_csv(f, index_col=0)\n",
    "\n",
    "f.close()"
   ]
  },
  {
   "cell_type": "code",
   "execution_count": null,
   "id": "fd2942c7",
   "metadata": {
    "ExecuteTime": {
     "end_time": "2023-03-20T15:09:12.622458Z",
     "start_time": "2023-03-20T15:09:12.584258Z"
    },
    "scrolled": true
   },
   "outputs": [],
   "source": [
    "inputs_df"
   ]
  },
  {
   "cell_type": "markdown",
   "id": "7afbd7ff",
   "metadata": {},
   "source": [
    "## Actual parameter ranges"
   ]
  },
  {
   "cell_type": "code",
   "execution_count": null,
   "id": "b7a17066",
   "metadata": {
    "ExecuteTime": {
     "end_time": "2023-02-24T23:13:32.934812Z",
     "start_time": "2023-02-24T23:13:32.918333Z"
    }
   },
   "outputs": [],
   "source": [
    "with open(\"model_variants\", \"r\") as f:\n",
    "    model_variants_df = pd.read_csv(f, index_col=0)\n",
    "\n",
    "f.close()"
   ]
  },
  {
   "cell_type": "code",
   "execution_count": null,
   "id": "30571bda",
   "metadata": {
    "ExecuteTime": {
     "end_time": "2023-02-24T23:13:33.731617Z",
     "start_time": "2023-02-24T23:13:33.719018Z"
    }
   },
   "outputs": [],
   "source": [
    "model_variants_df"
   ]
  },
  {
   "cell_type": "markdown",
   "id": "372b2133",
   "metadata": {},
   "source": [
    "## Predictions"
   ]
  },
  {
   "cell_type": "code",
   "execution_count": null,
   "id": "49696c5f",
   "metadata": {
    "ExecuteTime": {
     "end_time": "2023-02-25T00:16:36.868748Z",
     "start_time": "2023-02-25T00:16:36.866079Z"
    }
   },
   "outputs": [],
   "source": [
    "days = [str(n).zfill(2) for n in range(1, 15)]\n",
    "times = [\"09_20_00\", \"12_20_00\"]\n",
    "\n",
    "# Since the predictions take up so much space, they are separated by day\n",
    "prediction_sets = [\"predictions_07_\" + day + \"_17_\" + time for day in days for time in times]"
   ]
  },
  {
   "cell_type": "code",
   "execution_count": null,
   "id": "e0d92807",
   "metadata": {
    "ExecuteTime": {
     "end_time": "2023-02-24T23:59:09.752333Z",
     "start_time": "2023-02-24T23:59:02.540527Z"
    }
   },
   "outputs": [],
   "source": [
    "with open(prediction_sets[0], \"r\") as f:\n",
    "    my_predict_df_this_time = pd.read_csv(f, index_col=0)"
   ]
  },
  {
   "cell_type": "code",
   "execution_count": null,
   "id": "aacfb160",
   "metadata": {
    "ExecuteTime": {
     "end_time": "2023-02-24T23:59:09.763655Z",
     "start_time": "2023-02-24T23:59:09.753894Z"
    }
   },
   "outputs": [],
   "source": [
    "my_predict_df_this_time"
   ]
  },
  {
   "cell_type": "markdown",
   "id": "47d48a4c",
   "metadata": {},
   "source": [
    "# Identify outlier pixels\n",
    "\n",
    "## Step 1. Distances and variances"
   ]
  },
  {
   "cell_type": "code",
   "execution_count": null,
   "id": "3e74ec2c",
   "metadata": {
    "ExecuteTime": {
     "end_time": "2023-02-25T00:16:42.231000Z",
     "start_time": "2023-02-25T00:16:42.225566Z"
    },
    "code_folding": []
   },
   "outputs": [],
   "source": [
    "def get_implausibility_from_least_squares_variant(obsSdCensor=0.1):\n",
    "    \"\"\"\n",
    "    Value\n",
    "    \n",
    "    Tuple : Variant which achieves least squares between measured and emulated AOD, \"Distances\" (differences in response)\n",
    "        and \"variances\" (terms needed to normalize the distances)\n",
    "    \"\"\"\n",
    "    which_gets_least_squares = []\n",
    "    distances = []\n",
    "    variances = []\n",
    "    \n",
    "    my_obs_df = obs_df.copy()\n",
    "    my_obs_df.loc[obs_df.sdResponse >= obsSdCensor, [\"meanResponse\", \"sdResponse\"]] = [float(\"nan\"), float(\"nan\")]\n",
    "\n",
    "    # Get a best-variant for each day + time of day\n",
    "    for time, prediction_set in zip(np.unique(my_obs_df.time), prediction_sets):\n",
    "        \n",
    "        my_obs_df_this_time = my_obs_df[my_obs_df.time==time].reset_index(drop=True)\n",
    "        num_pixels = len(my_obs_df_this_time.index)\n",
    "        \n",
    "        with open(prediction_set, \"r\") as f:\n",
    "            my_predict_df_this_time = pd.read_csv(f, index_col=0)\n",
    "        \n",
    "        my_predict_dfs = [\n",
    "            my_predict_df_this_time.iloc[k*5000:(k+1)*5000, :].reset_index(drop=True) \n",
    "            for k in range(num_pixels)\n",
    "        ]\n",
    "\n",
    "        # Check which row (test variant) gives least squares\n",
    "        for row in range(num_pixels):\n",
    "\n",
    "            y = my_obs_df_this_time.loc[row, 'meanResponse']\n",
    "            e = my_obs_df_this_time.loc[row, 'sdResponse']**2\n",
    "\n",
    "            zs = my_predict_dfs[row]['meanResponse']\n",
    "            ss = my_predict_dfs[row]['sdResponse']**2\n",
    "\n",
    "            if ~np.isnan(y) and y != 0:\n",
    "                squares = list((y - zs)**2 / (e + ss))\n",
    "                least_squares = min(squares)\n",
    "                idx = squares.index(least_squares)\n",
    "                \n",
    "                which_gets_least_squares.append(idx)\n",
    "                distances.append(y-zs[idx])\n",
    "                variances.append(e + ss[idx])\n",
    "            else:\n",
    "                which_gets_least_squares.append(0)\n",
    "                distances.append(float(\"nan\"))\n",
    "                variances.append(float(\"nan\"))\n",
    "\n",
    "    return (which_gets_least_squares, distances, variances)"
   ]
  },
  {
   "cell_type": "code",
   "execution_count": null,
   "id": "133768c7",
   "metadata": {
    "ExecuteTime": {
     "end_time": "2023-02-25T00:20:49.788985Z",
     "start_time": "2023-02-25T00:16:44.289304Z"
    }
   },
   "outputs": [],
   "source": [
    "idxSmallest, distances, variances = get_implausibility_from_least_squares_variant()"
   ]
  },
  {
   "cell_type": "code",
   "execution_count": null,
   "id": "52266c0c",
   "metadata": {
    "ExecuteTime": {
     "end_time": "2023-02-25T00:21:17.180074Z",
     "start_time": "2023-02-25T00:21:17.138805Z"
    }
   },
   "outputs": [],
   "source": [
    "leastSqs = [distances[k] / np.sqrt(variances[k]) for k in range(len(distances))]"
   ]
  },
  {
   "cell_type": "markdown",
   "id": "7a0197e2",
   "metadata": {},
   "source": [
    "## Step 2. Set threshold for outliers"
   ]
  },
  {
   "cell_type": "code",
   "execution_count": null,
   "id": "b0a5ff12",
   "metadata": {
    "ExecuteTime": {
     "end_time": "2023-03-20T17:48:48.261115Z",
     "start_time": "2023-03-20T17:48:48.256664Z"
    }
   },
   "outputs": [],
   "source": [
    "plt.hist(leastSqs)"
   ]
  },
  {
   "cell_type": "code",
   "execution_count": null,
   "id": "6de1a739",
   "metadata": {
    "ExecuteTime": {
     "end_time": "2023-02-25T00:21:41.275934Z",
     "start_time": "2023-02-25T00:21:41.250416Z"
    },
    "scrolled": true
   },
   "outputs": [],
   "source": [
    "obs_df['missing'] = np.isnan(leastSqs)\n",
    "obs_df['outlier'] = [leastSqs[k] > 15 for k in range(len(leastSqs))]"
   ]
  },
  {
   "cell_type": "code",
   "execution_count": null,
   "id": "aeb5f446",
   "metadata": {
    "ExecuteTime": {
     "end_time": "2023-02-25T00:23:56.576158Z",
     "start_time": "2023-02-25T00:23:56.446653Z"
    }
   },
   "outputs": [],
   "source": [
    "with open(\"outliers\", \"w\") as f:\n",
    "    obs_df.to_csv(f, index=False)\n",
    "\n",
    "f.close()"
   ]
  },
  {
   "cell_type": "markdown",
   "id": "b312b996",
   "metadata": {},
   "source": [
    "## Step 3. View missingness / removed outliers"
   ]
  },
  {
   "cell_type": "code",
   "execution_count": null,
   "id": "cc55aff3",
   "metadata": {
    "ExecuteTime": {
     "end_time": "2023-02-25T00:21:50.396360Z",
     "start_time": "2023-02-25T00:21:50.363986Z"
    }
   },
   "outputs": [],
   "source": [
    "from matplotlib import ticker\n",
    "from mpl_toolkits.axes_grid1 import make_axes_locatable\n",
    "\n",
    "for time in np.unique(obs_df2.time)[0:1]:\n",
    "\n",
    "    my_obs = obs_df2.loc[(obs_df2.time == time), :]\n",
    "    \n",
    "    BBox = [-45, 40, -30, 10]\n",
    "    fig = plt.figure(figsize=(5.67*(2/3), 4), facecolor='white', dpi=1200)\n",
    "    projection = ccrs.PlateCarree(central_longitude=0)\n",
    "\n",
    "    ax = fig.add_subplot(1, 1, 1, projection=projection)\n",
    "    ax.coastlines()\n",
    "    ax.set_extent(BBox, ccrs.PlateCarree())\n",
    "    gl = ax.gridlines(draw_labels=True, crs=projection, color='k', linewidth=0.5)\n",
    "    gl.bottom_labels=False\n",
    "    gl.right_labels=False\n",
    "    gl.ylocator=ticker.FixedLocator([-20, -10, 0])\n",
    "    gl.ylabel_style = {'size': 8}\n",
    "    gl.xlocator=ticker.FixedLocator([-30, -10, 10, 30])\n",
    "    gl.xlabel_style = {'size': 8}\n",
    "\n",
    "    missing = my_obs.loc[my_obs.missing, :]\n",
    "    outlier = my_obs.loc[my_obs.outlier, :]\n",
    "    retained = my_obs.loc[(~my_obs.missing) & (~my_obs.outlier), :]\n",
    "\n",
    "    p1 = plt.scatter(\n",
    "        outlier.longitude,\n",
    "        outlier.latitude,\n",
    "        c='g',\n",
    "        alpha=0.5,\n",
    "        s=5,\n",
    "        marker='s',\n",
    "        label='Outlier'\n",
    "    )\n",
    "    p2 = plt.scatter(\n",
    "        missing.longitude,\n",
    "        missing.latitude,\n",
    "        c='r',\n",
    "        alpha=0.5,\n",
    "        s=5,\n",
    "        marker='s',\n",
    "        label='Missing measurement'\n",
    "    )\n",
    "    p3 = plt.scatter(\n",
    "        retained.longitude,\n",
    "        retained.latitude,\n",
    "        c=retained.meanResponse,\n",
    "        cmap=\"Blues\",\n",
    "        alpha=1,\n",
    "        s=5,\n",
    "        marker='.',\n",
    "        label='retained'\n",
    "    )\n",
    "    \n",
    "    cbar = plt.colorbar(p3, fraction=0.1, orientation=\"horizontal\")\n",
    "    cbar.ax.tick_params(labelsize=8)\n",
    "    cbar.set_label(label='Measured AOD', fontsize=8)\n",
    "\n",
    "    plt.legend(\n",
    "        handles=[p1, p2],\n",
    "        loc='lower center',\n",
    "        bbox_to_anchor=(0.5, -0.25),\n",
    "        ncol=2,\n",
    "        fontsize=8\n",
    "    )\n",
    "\n",
    "    plt.show()"
   ]
  }
 ],
 "metadata": {
  "has_local_update": true,
  "is_local": true,
  "is_remote": true,
  "kernelspec": {
   "display_name": "Python 3",
   "language": "python",
   "name": "python3"
  },
  "language_info": {
   "codemirror_mode": {
    "name": "ipython",
    "version": 3
   },
   "file_extension": ".py",
   "mimetype": "text/x-python",
   "name": "python",
   "nbconvert_exporter": "python",
   "pygments_lexer": "ipython3",
   "version": "3.8.13"
  },
  "last_sync_time": "2023-03-29T19:21:37.661799"
 },
 "nbformat": 4,
 "nbformat_minor": 5
}
