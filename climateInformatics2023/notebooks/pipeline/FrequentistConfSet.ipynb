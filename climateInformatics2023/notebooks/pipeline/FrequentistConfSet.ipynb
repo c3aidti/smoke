{
 "cells": [
  {
   "cell_type": "code",
   "execution_count": null,
   "id": "7d21081b",
   "metadata": {
    "ExecuteTime": {
     "end_time": "2023-03-24T17:07:38.227036Z",
     "start_time": "2023-03-24T17:07:38.224669Z"
    }
   },
   "outputs": [],
   "source": [
    "import pandas as pd\n",
    "import numpy as np\n",
    "import matplotlib.pyplot as plt\n",
    "import scipy\n",
    "import scipy.stats\n",
    "import csv\n",
    "import math"
   ]
  },
  {
   "cell_type": "code",
   "execution_count": null,
   "id": "fe026c16",
   "metadata": {
    "ExecuteTime": {
     "end_time": "2023-03-27T02:58:41.389846Z",
     "start_time": "2023-03-27T02:58:13.172476Z"
    }
   },
   "outputs": [],
   "source": [
    "with open(\"implausibilities\", \"r\") as f:\n",
    "    sb_implausibilities = pd.read_csv(f, index_col=0)\n",
    "f.close()\n",
    "\n",
    "with open(\"norm_dists\", \"r\") as f:\n",
    "    norm_dists = pd.read_csv(f, index_col=0)\n",
    "f.close()\n",
    "\n",
    "with open(\"model_variants\", \"r\") as f:\n",
    "    param_df = pd.read_csv(f, index_col=0)\n",
    "f.close()\n",
    "\n",
    "with open(\"outliers\", \"r\") as f:\n",
    "    obs_df2 = pd.read_csv(f, index_col=0)\n",
    "f.close()\n",
    "\n",
    "param_short_names = dict(zip(\n",
    "    ['acure_prim_so4_diam', 'acure_sea_spray', 'acure_bvoc_soa', 'acure_dry_dep_acc'],\n",
    "    ['Diam. primary anthro. SO4', 'Sea spray emission flux', 'BVOC SOA', 'Accumulation dry deposition rate']\n",
    "))\n",
    "\n",
    "sb_cv = np.sqrt(scipy.stats.chi2.ppf(0.95, sum((~obs_df2.missing) & (~obs_df2.outlier))))"
   ]
  },
  {
   "cell_type": "code",
   "execution_count": null,
   "id": "00bf250e",
   "metadata": {
    "ExecuteTime": {
     "end_time": "2023-03-27T03:07:47.541564Z",
     "start_time": "2023-03-27T03:07:47.533439Z"
    },
    "code_folding": [
     0
    ]
   },
   "outputs": [],
   "source": [
    "def show_parametric_constraint(method='sb', q=0.95, save=False):\n",
    "    \n",
    "    my_param_df = param_df.copy()\n",
    "    \n",
    "    if method=='sb':\n",
    "        my_param_df['implausibilities'] = sb_implausibilities\n",
    "        title = 'Strict bounds implausibilities'\n",
    "        cv = sb_cv\n",
    "    elif method=='hm':\n",
    "        my_param_df['implausibilities'] = np.nanquantile(norm_dists, q=q, axis=0)\n",
    "        title = 'History matching implausibilities'\n",
    "        cv = np.quantile([np.quantile(scipy.stats.halfnorm.rvs(size=sum((~obs_df2.missing) & (~obs_df2.outlier))), q=q) for i in range(5000)], q=0.95)\n",
    "\n",
    "    my_param_df['colors'] = (my_param_df['implausibilities']>cv)\n",
    "    ylim = [\n",
    "        min(math.floor(cv), math.floor(np.min(my_param_df['implausibilities']))), \n",
    "        max(math.ceil(cv), math.ceil(np.max(my_param_df['implausibilities'])))\n",
    "    ]\n",
    "\n",
    "    fig, (ax0, ax1, ax2) = plt.subplots(\n",
    "        nrows=3,\n",
    "        ncols=1,\n",
    "        sharey=False,\n",
    "        figsize=(2, 4),\n",
    "        dpi=1200\n",
    "    )\n",
    "    fig.tight_layout()\n",
    "\n",
    "    ax0.set_xlabel(param_short_names['acure_sea_spray'], fontsize=8)\n",
    "    ax0.set_xlim(0.25, 4)\n",
    "    ax0.set_xticks([0.25, 4])\n",
    "    ax0.set_ylim(*ylim)\n",
    "    ax0.set_yticks(ylim)\n",
    "    ax0.tick_params(axis='both', which='major', labelsize=8)\n",
    "    ax0.scatter(\n",
    "        my_param_df['acure_sea_spray'],\n",
    "        my_param_df['implausibilities'],\n",
    "        alpha=1,\n",
    "        s=0.01,\n",
    "        c=my_param_df['colors'],\n",
    "        cmap='bwr'\n",
    "    )\n",
    "    ax0.axhline(\n",
    "        cv,\n",
    "        c='r'\n",
    "    )\n",
    "\n",
    "    ax1.set_xlabel(param_short_names['acure_bvoc_soa'], fontsize=8)\n",
    "    ax1.set_xlim(0.32, 3.68)\n",
    "    ax1.set_xticks([0.32, 3.68])\n",
    "    ax1.set_ylim(*ylim)\n",
    "    ax1.set_yticks(ylim)\n",
    "    ax1.tick_params(axis='both', which='major', labelsize=8)\n",
    "    ax1.scatter(\n",
    "        my_param_df['acure_bvoc_soa'],\n",
    "        my_param_df['implausibilities'],\n",
    "        alpha=1,\n",
    "        s=0.01,\n",
    "        c=my_param_df['colors'],\n",
    "        cmap='bwr'\n",
    "    )\n",
    "    ax1.axhline(\n",
    "        cv,\n",
    "        c='r'\n",
    "    )\n",
    "\n",
    "    ax2.set_xlabel(param_short_names['acure_dry_dep_acc'], fontsize=8)\n",
    "    ax2.set_xlim(0.1, 10)\n",
    "    ax2.set_xticks([0.1, 10])\n",
    "    ax2.set_ylim(*ylim)\n",
    "    ax2.set_yticks(ylim)\n",
    "    ax2.tick_params(axis='both', which='major', labelsize=8)\n",
    "    ax2.scatter(\n",
    "        my_param_df['acure_dry_dep_acc'],\n",
    "        my_param_df['implausibilities'],\n",
    "        alpha=1,\n",
    "        s=0.01,\n",
    "        c=my_param_df['colors'],\n",
    "        cmap='bwr'\n",
    "    )\n",
    "    ax2.axhline(\n",
    "        cv,\n",
    "        c='r'\n",
    "    )\n",
    "\n",
    "    fig.text(0, 0.5, title, va='center', rotation='vertical', fontsize=8)\n",
    "    if method=='hm':\n",
    "        fig.suptitle('Quantile ' + str(q), fontsize=8, y=1.02)\n",
    "\n",
    "    plt.show()"
   ]
  },
  {
   "cell_type": "code",
   "execution_count": null,
   "id": "ec0231e2",
   "metadata": {
    "ExecuteTime": {
     "end_time": "2023-03-27T03:07:48.698487Z",
     "start_time": "2023-03-27T03:07:48.690684Z"
    },
    "code_folding": [
     0
    ]
   },
   "outputs": [],
   "source": [
    "def show_biparametric_constraints(pars=list(param_short_names.keys()), method='sb', q=0.95, save=False):\n",
    "    \"\"\"\n",
    "    Arguments\n",
    "    \n",
    "    method : \n",
    "    \"\"\"\n",
    "    \n",
    "    pairs = [[a, b] for idx, a in enumerate(pars) for b in pars[idx + 1:]]\n",
    "    \n",
    "    for pair in pairs:\n",
    "        binned_param_df = pd.DataFrame()\n",
    "        my_param_df = param_df.copy()\n",
    "\n",
    "        binned_param_df[pair[0]], bins_0 = pd.cut(my_param_df[pair[0]], 15, labels=list(range(15)), retbins=True)\n",
    "        binned_param_df[pair[1]], bins_1 = pd.cut(my_param_df[pair[1]], 15, labels=list(range(15)), retbins=True)\n",
    "        if method=='sb':\n",
    "            plausible = (sb_implausibilities <= sb_cv)\n",
    "            binned_param_df['plausible'] = plausible.reset_index(drop=True)\n",
    "            binned_param_df['implausibilities'] = sb_implausibilities.reset_index(drop=True)\n",
    "        elif method=='hm':\n",
    "            hm_implausibilities = np.nanquantile(norm_dists, q=q, axis=0)\n",
    "            hm_cv = np.quantile([np.quantile(scipy.stats.halfnorm.rvs(size=sum((~obs_df2.missing) & (~obs_df2.outlier))), q=q) for i in range(5000)], q=0.95)\n",
    "            hm_plausible = (hm_implausibilities <= hm_cv)\n",
    "            binned_param_df['plausible'] = hm_plausible\n",
    "            binned_param_df['implausibilities'] = hm_implausibilities\n",
    "\n",
    "        binned_param_df = binned_param_df.replace({\n",
    "            pair[0]: dict(zip(list(range(15)), bins_0)),\n",
    "            pair[1]: dict(zip(list(range(15)), bins_1))\n",
    "        })\n",
    "\n",
    "        grouped = binned_param_df.groupby(pair).agg({'plausible': 'mean'}).reset_index()\n",
    "        grouped_implausible = grouped[grouped.plausible==0]\n",
    "\n",
    "        fig = plt.figure(figsize=(5.67, 5), dpi=1200)\n",
    "\n",
    "        plt.scatter(grouped_implausible[pair[0]], grouped_implausible[pair[1]], c=grouped_implausible.plausible, marker='s', s=110, alpha=1)\n",
    "        plt.scatter(grouped[pair[0]], grouped[pair[1]], c=grouped.plausible, marker='s', s=110, alpha=0.5)\n",
    "        plt.xlabel(param_short_names[pair[0]], fontsize=8)\n",
    "        plt.ylabel(param_short_names[pair[1]], fontsize=8)\n",
    "        cbar = plt.colorbar()\n",
    "        cbar.ax.tick_params(labelsize=8)\n",
    "        cbar.set_label(label='Proportion plausible', fontsize=8)\n",
    "\n",
    "        if save:\n",
    "            plt.savefig(method + '_constraint_' + pair[0] + '_' + pair[1])\n",
    "        plt.show()"
   ]
  },
  {
   "cell_type": "markdown",
   "id": "5d9ba700",
   "metadata": {
    "heading_collapsed": true
   },
   "source": [
    "# Strict bounds"
   ]
  },
  {
   "cell_type": "code",
   "execution_count": null,
   "id": "e71644b6",
   "metadata": {
    "ExecuteTime": {
     "end_time": "2023-03-24T17:27:48.771815Z",
     "start_time": "2023-03-24T17:27:47.510420Z"
    },
    "hidden": true,
    "scrolled": true
   },
   "outputs": [],
   "source": [
    "show_parametric_constraint(method='sb', save=False)"
   ]
  },
  {
   "cell_type": "code",
   "execution_count": null,
   "id": "a09afb96",
   "metadata": {
    "ExecuteTime": {
     "end_time": "2023-03-24T17:29:37.476630Z",
     "start_time": "2023-03-24T17:29:28.790609Z"
    },
    "hidden": true,
    "scrolled": true
   },
   "outputs": [],
   "source": [
    "show_biparametric_constraints(method='sb')"
   ]
  },
  {
   "cell_type": "markdown",
   "id": "96316159",
   "metadata": {
    "heading_collapsed": true
   },
   "source": [
    "# History matching"
   ]
  },
  {
   "cell_type": "code",
   "execution_count": null,
   "id": "0b8f5b7f",
   "metadata": {
    "ExecuteTime": {
     "end_time": "2023-03-27T02:17:52.745295Z",
     "start_time": "2023-03-27T02:17:51.729473Z"
    },
    "hidden": true
   },
   "outputs": [],
   "source": [
    "q_quantiles = [np.quantile(scipy.stats.halfnorm.rvs(size=100), q=0.95) for i in range(10000)]\n",
    "np.quantile(q_quantiles, q=0.95)"
   ]
  },
  {
   "cell_type": "code",
   "execution_count": null,
   "id": "7c0ea5de",
   "metadata": {
    "ExecuteTime": {
     "end_time": "2023-03-27T03:02:15.413936Z",
     "start_time": "2023-03-27T03:01:08.455899Z"
    },
    "hidden": true,
    "scrolled": true
   },
   "outputs": [],
   "source": [
    "for q in [0.75, 0.9, 0.95]:\n",
    "    show_parametric_constraint(method='hm', q=q)"
   ]
  },
  {
   "cell_type": "code",
   "execution_count": null,
   "id": "39235bb0",
   "metadata": {
    "ExecuteTime": {
     "end_time": "2023-03-27T03:07:45.567817Z",
     "start_time": "2023-03-27T03:02:15.415369Z"
    },
    "hidden": true,
    "scrolled": true
   },
   "outputs": [],
   "source": [
    "for q in [0.75, 0.9, 0.95]:\n",
    "    show_biparametric_constraints(method='hm', q=q)"
   ]
  }
 ],
 "metadata": {
  "has_local_update": true,
  "is_local": true,
  "is_remote": true,
  "kernelspec": {
   "display_name": "Python 3",
   "language": "python",
   "name": "python3"
  },
  "language_info": {
   "codemirror_mode": {
    "name": "ipython",
    "version": 3
   },
   "file_extension": ".py",
   "mimetype": "text/x-python",
   "name": "python",
   "nbconvert_exporter": "python",
   "pygments_lexer": "ipython3",
   "version": "3.8.13"
  },
  "last_sync_time": "2023-03-29T19:15:08.678085"
 },
 "nbformat": 4,
 "nbformat_minor": 5
}
